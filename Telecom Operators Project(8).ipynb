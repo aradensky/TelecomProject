{
 "cells": [
  {
   "cell_type": "markdown",
   "metadata": {},
   "source": [
    "# Asher's Telecom Operators Project\n",
    "\n",
    "\n",
    "Howdy! \n",
    "\n",
    "The overall goal of this task to is to find the ineffective telecom operators for my superiors. What ineffective means is that there are many missed calls and a long wait time for incoming and outbound calls. The reason we are looking for this data is to help my supervisors understand what will allow us to provide a better service for our customers. Based on my analysis we will have a better understanding which operators to continue using and which operators we need to get rid of. \n",
    "\n",
    "Boiled down Task: Determine the operators with most missed calls and longest wait times\n"
   ]
  },
  {
   "cell_type": "markdown",
   "metadata": {},
   "source": [
    "## Link to archive with rest of project: https://drive.google.com/drive/folders/1CuAVmQaEE-DtJ8igUv6KlXMravr-h0lS?usp=sharing"
   ]
  },
  {
   "cell_type": "markdown",
   "metadata": {},
   "source": [
    "## Importing and looking at the data\n",
    "\n",
    "We will be using a few tools to analyze:\n",
    "1. Pandas: To create beautiful dataframes\n",
    "3. Numpy: for general coding and math applications \n",
    "4. Matplotlib: For beautiful graphs \n",
    "5. Sklearn: for wonderful machine learning \n",
    "6. seaborn: for beautiful plots\n",
    "7. scipy: for running statistical tests"
   ]
  },
  {
   "cell_type": "code",
   "execution_count": 2,
   "metadata": {},
   "outputs": [],
   "source": [
    "import pandas as pd \n",
    "import numpy as np\n",
    "import seaborn as sns\n",
    "import matplotlib.pyplot as plt\n",
    "import math\n",
    "from scipy import stats as st\n",
    "from sklearn.model_selection import train_test_split\n",
    "from sklearn.preprocessing import StandardScaler\n",
    "from sklearn.linear_model import Lasso, Ridge\n",
    "from sklearn.tree import DecisionTreeRegressor\n",
    "from sklearn.ensemble import RandomForestRegressor, GradientBoostingRegressor\n",
    "import matplotlib.pyplot as plt\n",
    "from sklearn.metrics import mean_absolute_error, mean_squared_error, r2_score\n",
    "from sklearn.linear_model import LogisticRegression\n",
    "from sklearn.ensemble import RandomForestClassifier, GradientBoostingClassifier\n",
    "from sklearn.cluster import KMeans\n",
    "from scipy.cluster.hierarchy import dendrogram, linkage \n",
    "from sklearn.metrics import accuracy_score, precision_score, recall_score, f1_score\n",
    "\n",
    "data1= pd.read_csv('/datasets/telecom_clients_us.csv')\n",
    "data2= pd.read_csv('/datasets/telecom_dataset_us.csv')"
   ]
  },
  {
   "cell_type": "markdown",
   "metadata": {},
   "source": [
    "## Reading the data and displaying the data's values \n"
   ]
  },
  {
   "cell_type": "code",
   "execution_count": 3,
   "metadata": {},
   "outputs": [
    {
     "data": {
      "text/html": [
       "<div>\n",
       "<style scoped>\n",
       "    .dataframe tbody tr th:only-of-type {\n",
       "        vertical-align: middle;\n",
       "    }\n",
       "\n",
       "    .dataframe tbody tr th {\n",
       "        vertical-align: top;\n",
       "    }\n",
       "\n",
       "    .dataframe thead th {\n",
       "        text-align: right;\n",
       "    }\n",
       "</style>\n",
       "<table border=\"1\" class=\"dataframe\">\n",
       "  <thead>\n",
       "    <tr style=\"text-align: right;\">\n",
       "      <th></th>\n",
       "      <th>user_id</th>\n",
       "      <th>tariff_plan</th>\n",
       "      <th>date_start</th>\n",
       "    </tr>\n",
       "  </thead>\n",
       "  <tbody>\n",
       "    <tr>\n",
       "      <td>0</td>\n",
       "      <td>166713</td>\n",
       "      <td>A</td>\n",
       "      <td>2019-08-15</td>\n",
       "    </tr>\n",
       "    <tr>\n",
       "      <td>1</td>\n",
       "      <td>166901</td>\n",
       "      <td>A</td>\n",
       "      <td>2019-08-23</td>\n",
       "    </tr>\n",
       "    <tr>\n",
       "      <td>2</td>\n",
       "      <td>168527</td>\n",
       "      <td>A</td>\n",
       "      <td>2019-10-29</td>\n",
       "    </tr>\n",
       "    <tr>\n",
       "      <td>3</td>\n",
       "      <td>167097</td>\n",
       "      <td>A</td>\n",
       "      <td>2019-09-01</td>\n",
       "    </tr>\n",
       "    <tr>\n",
       "      <td>4</td>\n",
       "      <td>168193</td>\n",
       "      <td>A</td>\n",
       "      <td>2019-10-16</td>\n",
       "    </tr>\n",
       "  </tbody>\n",
       "</table>\n",
       "</div>"
      ],
      "text/plain": [
       "   user_id tariff_plan  date_start\n",
       "0   166713           A  2019-08-15\n",
       "1   166901           A  2019-08-23\n",
       "2   168527           A  2019-10-29\n",
       "3   167097           A  2019-09-01\n",
       "4   168193           A  2019-10-16"
      ]
     },
     "metadata": {},
     "output_type": "display_data"
    },
    {
     "data": {
      "text/html": [
       "<div>\n",
       "<style scoped>\n",
       "    .dataframe tbody tr th:only-of-type {\n",
       "        vertical-align: middle;\n",
       "    }\n",
       "\n",
       "    .dataframe tbody tr th {\n",
       "        vertical-align: top;\n",
       "    }\n",
       "\n",
       "    .dataframe thead th {\n",
       "        text-align: right;\n",
       "    }\n",
       "</style>\n",
       "<table border=\"1\" class=\"dataframe\">\n",
       "  <thead>\n",
       "    <tr style=\"text-align: right;\">\n",
       "      <th></th>\n",
       "      <th>user_id</th>\n",
       "    </tr>\n",
       "  </thead>\n",
       "  <tbody>\n",
       "    <tr>\n",
       "      <td>count</td>\n",
       "      <td>732.000000</td>\n",
       "    </tr>\n",
       "    <tr>\n",
       "      <td>mean</td>\n",
       "      <td>167431.927596</td>\n",
       "    </tr>\n",
       "    <tr>\n",
       "      <td>std</td>\n",
       "      <td>633.810383</td>\n",
       "    </tr>\n",
       "    <tr>\n",
       "      <td>min</td>\n",
       "      <td>166373.000000</td>\n",
       "    </tr>\n",
       "    <tr>\n",
       "      <td>25%</td>\n",
       "      <td>166900.750000</td>\n",
       "    </tr>\n",
       "    <tr>\n",
       "      <td>50%</td>\n",
       "      <td>167432.000000</td>\n",
       "    </tr>\n",
       "    <tr>\n",
       "      <td>75%</td>\n",
       "      <td>167973.000000</td>\n",
       "    </tr>\n",
       "    <tr>\n",
       "      <td>max</td>\n",
       "      <td>168606.000000</td>\n",
       "    </tr>\n",
       "  </tbody>\n",
       "</table>\n",
       "</div>"
      ],
      "text/plain": [
       "             user_id\n",
       "count     732.000000\n",
       "mean   167431.927596\n",
       "std       633.810383\n",
       "min    166373.000000\n",
       "25%    166900.750000\n",
       "50%    167432.000000\n",
       "75%    167973.000000\n",
       "max    168606.000000"
      ]
     },
     "metadata": {},
     "output_type": "display_data"
    },
    {
     "name": "stdout",
     "output_type": "stream",
     "text": [
      "<class 'pandas.core.frame.DataFrame'>\n",
      "RangeIndex: 732 entries, 0 to 731\n",
      "Data columns (total 3 columns):\n",
      "user_id        732 non-null int64\n",
      "tariff_plan    732 non-null object\n",
      "date_start     732 non-null object\n",
      "dtypes: int64(1), object(2)\n",
      "memory usage: 17.3+ KB\n"
     ]
    },
    {
     "data": {
      "text/plain": [
       "166926    1\n",
       "168227    1\n",
       "166377    1\n",
       "168284    1\n",
       "168281    1\n",
       "         ..\n",
       "167580    1\n",
       "166555    1\n",
       "167981    1\n",
       "168601    1\n",
       "167936    1\n",
       "Name: user_id, Length: 732, dtype: int64"
      ]
     },
     "metadata": {},
     "output_type": "display_data"
    },
    {
     "data": {
      "text/plain": [
       "C    395\n",
       "B    261\n",
       "A     76\n",
       "Name: tariff_plan, dtype: int64"
      ]
     },
     "metadata": {},
     "output_type": "display_data"
    },
    {
     "data": {
      "text/plain": [
       "2019-09-24    24\n",
       "2019-10-09    20\n",
       "2019-10-07    19\n",
       "2019-08-29    18\n",
       "2019-09-18    18\n",
       "              ..\n",
       "2019-08-31     1\n",
       "2019-10-19     1\n",
       "2019-10-20     1\n",
       "2019-09-01     1\n",
       "2019-09-21     1\n",
       "Name: date_start, Length: 73, dtype: int64"
      ]
     },
     "metadata": {},
     "output_type": "display_data"
    }
   ],
   "source": [
    "display(data1.head())\n",
    "display(data1.describe())\n",
    "data1.info()\n",
    "for column in data1:\n",
    "    display(data1[column].value_counts())"
   ]
  },
  {
   "cell_type": "markdown",
   "metadata": {},
   "source": [
    "### Reading the second file's data and exploring the values "
   ]
  },
  {
   "cell_type": "code",
   "execution_count": 4,
   "metadata": {},
   "outputs": [
    {
     "data": {
      "text/html": [
       "<div>\n",
       "<style scoped>\n",
       "    .dataframe tbody tr th:only-of-type {\n",
       "        vertical-align: middle;\n",
       "    }\n",
       "\n",
       "    .dataframe tbody tr th {\n",
       "        vertical-align: top;\n",
       "    }\n",
       "\n",
       "    .dataframe thead th {\n",
       "        text-align: right;\n",
       "    }\n",
       "</style>\n",
       "<table border=\"1\" class=\"dataframe\">\n",
       "  <thead>\n",
       "    <tr style=\"text-align: right;\">\n",
       "      <th></th>\n",
       "      <th>user_id</th>\n",
       "      <th>date</th>\n",
       "      <th>direction</th>\n",
       "      <th>internal</th>\n",
       "      <th>operator_id</th>\n",
       "      <th>is_missed_call</th>\n",
       "      <th>calls_count</th>\n",
       "      <th>call_duration</th>\n",
       "      <th>total_call_duration</th>\n",
       "    </tr>\n",
       "  </thead>\n",
       "  <tbody>\n",
       "    <tr>\n",
       "      <td>0</td>\n",
       "      <td>166377</td>\n",
       "      <td>2019-08-04 00:00:00+03:00</td>\n",
       "      <td>in</td>\n",
       "      <td>False</td>\n",
       "      <td>NaN</td>\n",
       "      <td>True</td>\n",
       "      <td>2</td>\n",
       "      <td>0</td>\n",
       "      <td>4</td>\n",
       "    </tr>\n",
       "    <tr>\n",
       "      <td>1</td>\n",
       "      <td>166377</td>\n",
       "      <td>2019-08-05 00:00:00+03:00</td>\n",
       "      <td>out</td>\n",
       "      <td>True</td>\n",
       "      <td>880022.0</td>\n",
       "      <td>True</td>\n",
       "      <td>3</td>\n",
       "      <td>0</td>\n",
       "      <td>5</td>\n",
       "    </tr>\n",
       "    <tr>\n",
       "      <td>2</td>\n",
       "      <td>166377</td>\n",
       "      <td>2019-08-05 00:00:00+03:00</td>\n",
       "      <td>out</td>\n",
       "      <td>True</td>\n",
       "      <td>880020.0</td>\n",
       "      <td>True</td>\n",
       "      <td>1</td>\n",
       "      <td>0</td>\n",
       "      <td>1</td>\n",
       "    </tr>\n",
       "    <tr>\n",
       "      <td>3</td>\n",
       "      <td>166377</td>\n",
       "      <td>2019-08-05 00:00:00+03:00</td>\n",
       "      <td>out</td>\n",
       "      <td>True</td>\n",
       "      <td>880020.0</td>\n",
       "      <td>False</td>\n",
       "      <td>1</td>\n",
       "      <td>10</td>\n",
       "      <td>18</td>\n",
       "    </tr>\n",
       "    <tr>\n",
       "      <td>4</td>\n",
       "      <td>166377</td>\n",
       "      <td>2019-08-05 00:00:00+03:00</td>\n",
       "      <td>out</td>\n",
       "      <td>False</td>\n",
       "      <td>880022.0</td>\n",
       "      <td>True</td>\n",
       "      <td>3</td>\n",
       "      <td>0</td>\n",
       "      <td>25</td>\n",
       "    </tr>\n",
       "  </tbody>\n",
       "</table>\n",
       "</div>"
      ],
      "text/plain": [
       "   user_id                       date direction internal  operator_id  \\\n",
       "0   166377  2019-08-04 00:00:00+03:00        in    False          NaN   \n",
       "1   166377  2019-08-05 00:00:00+03:00       out     True     880022.0   \n",
       "2   166377  2019-08-05 00:00:00+03:00       out     True     880020.0   \n",
       "3   166377  2019-08-05 00:00:00+03:00       out     True     880020.0   \n",
       "4   166377  2019-08-05 00:00:00+03:00       out    False     880022.0   \n",
       "\n",
       "   is_missed_call  calls_count  call_duration  total_call_duration  \n",
       "0            True            2              0                    4  \n",
       "1            True            3              0                    5  \n",
       "2            True            1              0                    1  \n",
       "3           False            1             10                   18  \n",
       "4            True            3              0                   25  "
      ]
     },
     "metadata": {},
     "output_type": "display_data"
    },
    {
     "data": {
      "text/html": [
       "<div>\n",
       "<style scoped>\n",
       "    .dataframe tbody tr th:only-of-type {\n",
       "        vertical-align: middle;\n",
       "    }\n",
       "\n",
       "    .dataframe tbody tr th {\n",
       "        vertical-align: top;\n",
       "    }\n",
       "\n",
       "    .dataframe thead th {\n",
       "        text-align: right;\n",
       "    }\n",
       "</style>\n",
       "<table border=\"1\" class=\"dataframe\">\n",
       "  <thead>\n",
       "    <tr style=\"text-align: right;\">\n",
       "      <th></th>\n",
       "      <th>user_id</th>\n",
       "      <th>operator_id</th>\n",
       "      <th>calls_count</th>\n",
       "      <th>call_duration</th>\n",
       "      <th>total_call_duration</th>\n",
       "    </tr>\n",
       "  </thead>\n",
       "  <tbody>\n",
       "    <tr>\n",
       "      <td>count</td>\n",
       "      <td>53902.000000</td>\n",
       "      <td>45730.000000</td>\n",
       "      <td>53902.000000</td>\n",
       "      <td>53902.000000</td>\n",
       "      <td>53902.000000</td>\n",
       "    </tr>\n",
       "    <tr>\n",
       "      <td>mean</td>\n",
       "      <td>167295.344477</td>\n",
       "      <td>916535.993002</td>\n",
       "      <td>16.451245</td>\n",
       "      <td>866.684427</td>\n",
       "      <td>1157.133297</td>\n",
       "    </tr>\n",
       "    <tr>\n",
       "      <td>std</td>\n",
       "      <td>598.883775</td>\n",
       "      <td>21254.123136</td>\n",
       "      <td>62.917170</td>\n",
       "      <td>3731.791202</td>\n",
       "      <td>4403.468763</td>\n",
       "    </tr>\n",
       "    <tr>\n",
       "      <td>min</td>\n",
       "      <td>166377.000000</td>\n",
       "      <td>879896.000000</td>\n",
       "      <td>1.000000</td>\n",
       "      <td>0.000000</td>\n",
       "      <td>0.000000</td>\n",
       "    </tr>\n",
       "    <tr>\n",
       "      <td>25%</td>\n",
       "      <td>166782.000000</td>\n",
       "      <td>900788.000000</td>\n",
       "      <td>1.000000</td>\n",
       "      <td>0.000000</td>\n",
       "      <td>47.000000</td>\n",
       "    </tr>\n",
       "    <tr>\n",
       "      <td>50%</td>\n",
       "      <td>167162.000000</td>\n",
       "      <td>913938.000000</td>\n",
       "      <td>4.000000</td>\n",
       "      <td>38.000000</td>\n",
       "      <td>210.000000</td>\n",
       "    </tr>\n",
       "    <tr>\n",
       "      <td>75%</td>\n",
       "      <td>167819.000000</td>\n",
       "      <td>937708.000000</td>\n",
       "      <td>12.000000</td>\n",
       "      <td>572.000000</td>\n",
       "      <td>902.000000</td>\n",
       "    </tr>\n",
       "    <tr>\n",
       "      <td>max</td>\n",
       "      <td>168606.000000</td>\n",
       "      <td>973286.000000</td>\n",
       "      <td>4817.000000</td>\n",
       "      <td>144395.000000</td>\n",
       "      <td>166155.000000</td>\n",
       "    </tr>\n",
       "  </tbody>\n",
       "</table>\n",
       "</div>"
      ],
      "text/plain": [
       "             user_id    operator_id   calls_count  call_duration  \\\n",
       "count   53902.000000   45730.000000  53902.000000   53902.000000   \n",
       "mean   167295.344477  916535.993002     16.451245     866.684427   \n",
       "std       598.883775   21254.123136     62.917170    3731.791202   \n",
       "min    166377.000000  879896.000000      1.000000       0.000000   \n",
       "25%    166782.000000  900788.000000      1.000000       0.000000   \n",
       "50%    167162.000000  913938.000000      4.000000      38.000000   \n",
       "75%    167819.000000  937708.000000     12.000000     572.000000   \n",
       "max    168606.000000  973286.000000   4817.000000  144395.000000   \n",
       "\n",
       "       total_call_duration  \n",
       "count         53902.000000  \n",
       "mean           1157.133297  \n",
       "std            4403.468763  \n",
       "min               0.000000  \n",
       "25%              47.000000  \n",
       "50%             210.000000  \n",
       "75%             902.000000  \n",
       "max          166155.000000  "
      ]
     },
     "metadata": {},
     "output_type": "display_data"
    },
    {
     "name": "stdout",
     "output_type": "stream",
     "text": [
      "<class 'pandas.core.frame.DataFrame'>\n",
      "RangeIndex: 53902 entries, 0 to 53901\n",
      "Data columns (total 9 columns):\n",
      "user_id                53902 non-null int64\n",
      "date                   53902 non-null object\n",
      "direction              53902 non-null object\n",
      "internal               53785 non-null object\n",
      "operator_id            45730 non-null float64\n",
      "is_missed_call         53902 non-null bool\n",
      "calls_count            53902 non-null int64\n",
      "call_duration          53902 non-null int64\n",
      "total_call_duration    53902 non-null int64\n",
      "dtypes: bool(1), float64(1), int64(4), object(3)\n",
      "memory usage: 3.3+ MB\n",
      "168187    2580\n",
      "166658    2107\n",
      "167497    1405\n",
      "167626    1311\n",
      "166916    1308\n",
      "          ... \n",
      "168013       1\n",
      "167981       1\n",
      "166584       1\n",
      "166554       1\n",
      "168578       1\n",
      "Name: user_id, Length: 307, dtype: int64\n",
      "2019-11-25 00:00:00+03:00    1220\n",
      "2019-11-28 00:00:00+03:00    1198\n",
      "2019-11-21 00:00:00+03:00    1186\n",
      "2019-11-27 00:00:00+03:00    1180\n",
      "2019-11-22 00:00:00+03:00    1176\n",
      "                             ... \n",
      "2019-08-03 00:00:00+03:00       9\n",
      "2019-08-02 00:00:00+03:00       8\n",
      "2019-08-10 00:00:00+03:00       7\n",
      "2019-08-04 00:00:00+03:00       4\n",
      "2019-08-11 00:00:00+03:00       2\n",
      "Name: date, Length: 119, dtype: int64\n",
      "out    31917\n",
      "in     21985\n",
      "Name: direction, dtype: int64\n",
      "False    47621\n",
      "True      6164\n",
      "Name: internal, dtype: int64\n",
      "901884.0    348\n",
      "901880.0    337\n",
      "893804.0    325\n",
      "885876.0    319\n",
      "891410.0    290\n",
      "           ... \n",
      "926214.0      1\n",
      "946468.0      1\n",
      "960674.0      1\n",
      "928284.0      1\n",
      "891948.0      1\n",
      "Name: operator_id, Length: 1092, dtype: int64\n",
      "False    30334\n",
      "True     23568\n",
      "Name: is_missed_call, dtype: int64\n",
      "1       14321\n",
      "2        7015\n",
      "3        4483\n",
      "4        3342\n",
      "5        2454\n",
      "        ...  \n",
      "632         1\n",
      "664         1\n",
      "888         1\n",
      "1432        1\n",
      "1375        1\n",
      "Name: calls_count, Length: 502, dtype: int64\n",
      "0       23263\n",
      "1         200\n",
      "7         144\n",
      "15        126\n",
      "13        125\n",
      "        ...  \n",
      "2607        1\n",
      "8053        1\n",
      "3927        1\n",
      "1878        1\n",
      "6395        1\n",
      "Name: call_duration, Length: 5373, dtype: int64\n",
      "0         1320\n",
      "2          850\n",
      "1          527\n",
      "4          461\n",
      "6          380\n",
      "          ... \n",
      "3313         1\n",
      "9428         1\n",
      "5298         1\n",
      "78998        1\n",
      "124787       1\n",
      "Name: total_call_duration, Length: 6040, dtype: int64\n"
     ]
    }
   ],
   "source": [
    "display(data2.head())\n",
    "display(data2.describe())\n",
    "data2.info()\n",
    "for column in data2:\n",
    "    print(data2[column].value_counts())"
   ]
  },
  {
   "cell_type": "markdown",
   "metadata": {},
   "source": [
    " We are missing quite a few operator IDs"
   ]
  },
  {
   "cell_type": "markdown",
   "metadata": {},
   "source": [
    "## Dropping the Missing operator IDs because it is too important to allow them to stay and mess thm up "
   ]
  },
  {
   "cell_type": "code",
   "execution_count": 11,
   "metadata": {},
   "outputs": [
    {
     "name": "stdout",
     "output_type": "stream",
     "text": [
      "<class 'pandas.core.frame.DataFrame'>\n",
      "Int64Index: 45670 entries, 1 to 53900\n",
      "Data columns (total 9 columns):\n",
      "user_id                45670 non-null int64\n",
      "date                   45670 non-null datetime64[ns, pytz.FixedOffset(180)]\n",
      "direction              45670 non-null object\n",
      "internal               45670 non-null object\n",
      "operator_id            45670 non-null float64\n",
      "is_missed_call         45670 non-null bool\n",
      "calls_count            45670 non-null int64\n",
      "call_duration          45670 non-null int64\n",
      "total_call_duration    45670 non-null int64\n",
      "dtypes: bool(1), datetime64[ns, pytz.FixedOffset(180)](1), float64(1), int64(4), object(2)\n",
      "memory usage: 3.2+ MB\n"
     ]
    }
   ],
   "source": [
    "data2.dropna(inplace=True)\n",
    "data2.info()"
   ]
  },
  {
   "cell_type": "markdown",
   "metadata": {},
   "source": [
    "## Changing the format to datetime for the dates we need to work with "
   ]
  },
  {
   "cell_type": "code",
   "execution_count": 12,
   "metadata": {},
   "outputs": [],
   "source": [
    "data1['date_start']= pd.to_datetime(data1['date_start'], format=\"%Y-%m-%d\")\n",
    "data2['date']= pd.to_datetime(data2['date'], format=\"%Y-%m-%d\")"
   ]
  },
  {
   "cell_type": "code",
   "execution_count": 13,
   "metadata": {},
   "outputs": [
    {
     "name": "stdout",
     "output_type": "stream",
     "text": [
      "<class 'pandas.core.frame.DataFrame'>\n",
      "RangeIndex: 732 entries, 0 to 731\n",
      "Data columns (total 3 columns):\n",
      "user_id        732 non-null int64\n",
      "tariff_plan    732 non-null object\n",
      "date_start     732 non-null datetime64[ns]\n",
      "dtypes: datetime64[ns](1), int64(1), object(1)\n",
      "memory usage: 17.3+ KB\n",
      "<class 'pandas.core.frame.DataFrame'>\n",
      "Int64Index: 45670 entries, 1 to 53900\n",
      "Data columns (total 9 columns):\n",
      "user_id                45670 non-null int64\n",
      "date                   45670 non-null datetime64[ns, pytz.FixedOffset(180)]\n",
      "direction              45670 non-null object\n",
      "internal               45670 non-null object\n",
      "operator_id            45670 non-null float64\n",
      "is_missed_call         45670 non-null bool\n",
      "calls_count            45670 non-null int64\n",
      "call_duration          45670 non-null int64\n",
      "total_call_duration    45670 non-null int64\n",
      "dtypes: bool(1), datetime64[ns, pytz.FixedOffset(180)](1), float64(1), int64(4), object(2)\n",
      "memory usage: 3.2+ MB\n"
     ]
    }
   ],
   "source": [
    "data1.info()\n",
    "data2.info()"
   ]
  },
  {
   "cell_type": "markdown",
   "metadata": {},
   "source": [
    "## Analyzing operators - Which ones do we need for our testing?"
   ]
  },
  {
   "cell_type": "code",
   "execution_count": 14,
   "metadata": {},
   "outputs": [
    {
     "data": {
      "image/png": "[encoded data removed]",
      "text/plain": [
       "<Figure size 432x288 with 1 Axes>"
      ]
     },
     "metadata": {
      "needs_background": "light"
     },
     "output_type": "display_data"
    }
   ],
   "source": [
    "grouped_operators = data2.groupby('operator_id').agg({'user_id':'count'}).reset_index()\n",
    "# grouped_operators.rename(columns={'operator_id': 'operators','operator_id':'count'}, inplace=True)\n",
    "sorted_operators = grouped_operators.sort_values(by='user_id', ascending=False)\n",
    "sorted_operators.plot(kind='barh', x= 'operator_id', y='user_id', color='green')\n",
    "plt.title('Operators sorted by call amounts')\n",
    "plt.show()"
   ]
  },
  {
   "cell_type": "markdown",
   "metadata": {},
   "source": [
    "We found that many operators have made less than 20 calls. This is problematic because we need a good enough basis for calling an operator good or bad. If we score them based off one call it will probably not work out well."
   ]
  },
  {
   "cell_type": "markdown",
   "metadata": {},
   "source": [
    "## Selecting operators with over 20 data points "
   ]
  },
  {
   "cell_type": "code",
   "execution_count": 15,
   "metadata": {},
   "outputs": [],
   "source": [
    "sorted_operators_more_than_20 = sorted_operators[sorted_operators['user_id']>20]"
   ]
  },
  {
   "cell_type": "code",
   "execution_count": 16,
   "metadata": {},
   "outputs": [
    {
     "name": "stdout",
     "output_type": "stream",
     "text": [
      "<class 'pandas.core.frame.DataFrame'>\n",
      "Int64Index: 547 entries, 204 to 1051\n",
      "Data columns (total 2 columns):\n",
      "operator_id    547 non-null float64\n",
      "user_id        547 non-null int64\n",
      "dtypes: float64(1), int64(1)\n",
      "memory usage: 12.8 KB\n",
      "None\n"
     ]
    }
   ],
   "source": [
    "print(sorted_operators_more_than_20.info())"
   ]
  },
  {
   "cell_type": "markdown",
   "metadata": {},
   "source": [
    "This leaves us with 547 operators. Not too shabby. "
   ]
  },
  {
   "cell_type": "markdown",
   "metadata": {},
   "source": [
    "## Plotting the operators with over 20 calls "
   ]
  },
  {
   "cell_type": "code",
   "execution_count": 17,
   "metadata": {},
   "outputs": [
    {
     "data": {
      "text/plain": [
       "Text(0.5, 1.0, 'Operators with over 20 calls')"
      ]
     },
     "execution_count": 17,
     "metadata": {},
     "output_type": "execute_result"
    },
    {
     "data": {
      "image/png": "[encoded data removed]",
      "text/plain": [
       "<Figure size 432x288 with 1 Axes>"
      ]
     },
     "metadata": {
      "needs_background": "light"
     },
     "output_type": "display_data"
    }
   ],
   "source": [
    "sorted_operators_more_than_20.plot(kind='barh', x= 'operator_id', y='user_id', color='orange')\n",
    "plt.title('Operators with over 20 calls')"
   ]
  },
  {
   "cell_type": "code",
   "execution_count": 18,
   "metadata": {},
   "outputs": [],
   "source": [
    "sorted_operators_more_than_20 = sorted_operators_more_than_20['operator_id']"
   ]
  },
  {
   "cell_type": "markdown",
   "metadata": {},
   "source": [
    "# Creating a Dataframe with only relevant operators "
   ]
  },
  {
   "cell_type": "code",
   "execution_count": 19,
   "metadata": {},
   "outputs": [
    {
     "name": "stdout",
     "output_type": "stream",
     "text": [
      "       user_id                      date direction internal  operator_id  \\\n",
      "0       166377 2019-08-05 00:00:00+03:00       out     True     880022.0   \n",
      "1       166377 2019-08-05 00:00:00+03:00       out    False     880022.0   \n",
      "2       166377 2019-08-08 00:00:00+03:00       out    False     880022.0   \n",
      "3       166377 2019-08-08 00:00:00+03:00       out    False     880022.0   \n",
      "4       166377 2019-08-09 00:00:00+03:00       out    False     880022.0   \n",
      "...        ...                       ...       ...      ...          ...   \n",
      "41727   168601 2019-11-26 00:00:00+03:00        in    False     952914.0   \n",
      "41728   168601 2019-11-27 00:00:00+03:00        in    False     952914.0   \n",
      "41729   168601 2019-11-27 00:00:00+03:00       out    False     952914.0   \n",
      "41730   168601 2019-11-27 00:00:00+03:00       out    False     952914.0   \n",
      "41731   168601 2019-11-28 00:00:00+03:00       out    False     952914.0   \n",
      "\n",
      "       is_missed_call  calls_count  call_duration  total_call_duration  \n",
      "0                True            3              0                    5  \n",
      "1                True            3              0                   25  \n",
      "2               False            2            558                  568  \n",
      "3                True            4              0                   28  \n",
      "4                True            2              0                   10  \n",
      "...               ...          ...            ...                  ...  \n",
      "41727           False            4            539                  562  \n",
      "41728           False            2             53                   77  \n",
      "41729           False           26           1350                 1718  \n",
      "41730            True            2              0                   14  \n",
      "41731            True            2              0                   67  \n",
      "\n",
      "[41732 rows x 9 columns]\n"
     ]
    }
   ],
   "source": [
    "better_data= data2.merge(sorted_operators_more_than_20, on='operator_id')\n",
    "print(better_data)"
   ]
  },
  {
   "cell_type": "markdown",
   "metadata": {},
   "source": [
    "We used pd.merge and then get rid of the duplicates "
   ]
  },
  {
   "cell_type": "markdown",
   "metadata": {},
   "source": [
    "## Creating a column for wait times! "
   ]
  },
  {
   "cell_type": "code",
   "execution_count": 20,
   "metadata": {},
   "outputs": [],
   "source": [
    "better_data['wait_time']= better_data['total_call_duration']-better_data['call_duration']"
   ]
  },
  {
   "cell_type": "markdown",
   "metadata": {},
   "source": [
    "## Converting direction from in/out to binary so we can manipulate it "
   ]
  },
  {
   "cell_type": "code",
   "execution_count": 21,
   "metadata": {},
   "outputs": [],
   "source": [
    "better_data['missed_count']= better_data['is_missed_call'].astype(int)\n",
    "di = {'out':1, 'in':0}\n",
    "better_data.replace({'direction':di},inplace=True)"
   ]
  },
  {
   "cell_type": "code",
   "execution_count": 22,
   "metadata": {},
   "outputs": [
    {
     "name": "stdout",
     "output_type": "stream",
     "text": [
      "       user_id                      date  direction internal  operator_id  \\\n",
      "40686   168361 2019-11-04 00:00:00+03:00          1    False     945278.0   \n",
      "31748   167827 2019-10-31 00:00:00+03:00          1    False     929428.0   \n",
      "5735    166582 2019-10-01 00:00:00+03:00          1    False     885876.0   \n",
      "5734    166582 2019-10-01 00:00:00+03:00          1    False     885876.0   \n",
      "5710    166582 2019-09-24 00:00:00+03:00          1    False     885876.0   \n",
      "5944    166582 2019-10-22 00:00:00+03:00          1    False     925922.0   \n",
      "31750   167827 2019-11-01 00:00:00+03:00          1    False     929428.0   \n",
      "31752   167827 2019-11-05 00:00:00+03:00          1    False     929428.0   \n",
      "5732    166582 2019-10-01 00:00:00+03:00          1    False     885876.0   \n",
      "5704    166582 2019-09-23 00:00:00+03:00          1    False     885876.0   \n",
      "5686    166582 2019-09-17 00:00:00+03:00          1    False     885876.0   \n",
      "31757   167827 2019-11-07 00:00:00+03:00          1    False     929428.0   \n",
      "5685    166582 2019-09-17 00:00:00+03:00          1    False     885876.0   \n",
      "5713    166582 2019-09-25 00:00:00+03:00          1    False     885876.0   \n",
      "5706    166582 2019-09-23 00:00:00+03:00          1    False     885876.0   \n",
      "5708    166582 2019-09-23 00:00:00+03:00          1    False     885876.0   \n",
      "5632    166582 2019-09-03 00:00:00+03:00          1    False     885876.0   \n",
      "5633    166582 2019-09-03 00:00:00+03:00          1    False     885876.0   \n",
      "5715    166582 2019-09-25 00:00:00+03:00          1    False     885876.0   \n",
      "5664    166582 2019-09-10 00:00:00+03:00          1    False     885876.0   \n",
      "5661    166582 2019-09-09 00:00:00+03:00          1    False     885876.0   \n",
      "5709    166582 2019-09-24 00:00:00+03:00          1    False     885876.0   \n",
      "5894    166582 2019-10-08 00:00:00+03:00          1    False     925922.0   \n",
      "5717    166582 2019-09-26 00:00:00+03:00          1    False     885876.0   \n",
      "5759    166582 2019-10-08 00:00:00+03:00          1    False     885876.0   \n",
      "5724    166582 2019-09-27 00:00:00+03:00          1    False     885876.0   \n",
      "5721    166582 2019-09-27 00:00:00+03:00          1    False     885876.0   \n",
      "5663    166582 2019-09-10 00:00:00+03:00          1    False     885876.0   \n",
      "5666    166582 2019-09-10 00:00:00+03:00          1    False     885876.0   \n",
      "31755   167827 2019-11-06 00:00:00+03:00          1    False     929428.0   \n",
      "5688    166582 2019-09-18 00:00:00+03:00          1    False     885876.0   \n",
      "5729    166582 2019-09-30 00:00:00+03:00          1    False     885876.0   \n",
      "5730    166582 2019-09-30 00:00:00+03:00          1    False     885876.0   \n",
      "5629    166582 2019-09-02 00:00:00+03:00          1    False     885876.0   \n",
      "5690    166582 2019-09-18 00:00:00+03:00          1    False     885876.0   \n",
      "5922    166582 2019-10-15 00:00:00+03:00          1    False     925922.0   \n",
      "5758    166582 2019-10-08 00:00:00+03:00          1    False     885876.0   \n",
      "5668    166582 2019-09-11 00:00:00+03:00          1    False     885876.0   \n",
      "5507    166582 2019-10-17 00:00:00+03:00          1    False     885890.0   \n",
      "5696    166582 2019-09-20 00:00:00+03:00          1    False     885876.0   \n",
      "5737    166582 2019-10-02 00:00:00+03:00          1    False     885876.0   \n",
      "5422    166582 2019-09-20 00:00:00+03:00          1    False     885890.0   \n",
      "5662    166582 2019-09-09 00:00:00+03:00          1    False     885876.0   \n",
      "23542   167285 2019-10-22 00:00:00+03:00          1    False     908640.0   \n",
      "31698   167827 2019-11-22 00:00:00+03:00          1    False     929426.0   \n",
      "5416    166582 2019-09-19 00:00:00+03:00          1    False     885890.0   \n",
      "5388    166582 2019-09-13 00:00:00+03:00          1    False     885890.0   \n",
      "5639    166582 2019-09-04 00:00:00+03:00          1    False     885876.0   \n",
      "5933    166582 2019-10-18 00:00:00+03:00          1    False     925922.0   \n",
      "5627    166582 2019-09-02 00:00:00+03:00          1    False     885876.0   \n",
      "\n",
      "       is_missed_call  calls_count  call_duration  total_call_duration  \\\n",
      "40686           False          103          11553                58027   \n",
      "31748            True         2614              0                45312   \n",
      "5735             True         1241              0                33538   \n",
      "5734             True         1241              0                33538   \n",
      "5710             True         1195              0                33367   \n",
      "5944             True         1155              0                28145   \n",
      "31750            True         1529              0                28017   \n",
      "31752            True         1533              0                27889   \n",
      "5732            False         1480          86910               113843   \n",
      "5704            False         1436         103526               129484   \n",
      "5686             True          817              0                24833   \n",
      "31757            True         1365              0                24450   \n",
      "5685            False         1375         100454               124787   \n",
      "5713             True          796              0                23081   \n",
      "5706             True          729              0                22996   \n",
      "5708             True          729              0                22996   \n",
      "5632             True          743              0                21944   \n",
      "5633            False         1137          87700               109600   \n",
      "5715            False         1230         144395               166155   \n",
      "5664             True          718              0                21660   \n",
      "5661            False         1138         121093               141930   \n",
      "5709            False         1118          61814                82550   \n",
      "5894             True          827              0                20386   \n",
      "5717             True          720              0                19948   \n",
      "5759             True          678              0                19944   \n",
      "5724             True          701              0                19481   \n",
      "5721             True          701              0                19481   \n",
      "5663            False         1053          80782               100139   \n",
      "5666            False         1053          80782               100139   \n",
      "31755            True         1045              0                18978   \n",
      "5688             True          620              0                18915   \n",
      "5729            False         1063          93800               112572   \n",
      "5730             True          632              0                18592   \n",
      "5629            False         1018          90095               108665   \n",
      "5690            False         1013         121664               140050   \n",
      "5922             True          634              0                18196   \n",
      "5758            False          931          38485                56305   \n",
      "5668            False          946         115057               132708   \n",
      "5507             True          514              0                17332   \n",
      "5696             True          580              0                17315   \n",
      "5737            False          995         120175               137324   \n",
      "5422             True          494              0                17146   \n",
      "5662             True          531              0                17102   \n",
      "23542            True         1141              0                16994   \n",
      "31698            True         1020              0                16942   \n",
      "5416             True          489              0                16896   \n",
      "5388             True          517              0                16796   \n",
      "5639             True          469              0                16523   \n",
      "5933             True          645              0                16458   \n",
      "5627             True          470              0                16145   \n",
      "\n",
      "       wait_time  missed_count  \n",
      "40686      46474             0  \n",
      "31748      45312             1  \n",
      "5735       33538             1  \n",
      "5734       33538             1  \n",
      "5710       33367             1  \n",
      "5944       28145             1  \n",
      "31750      28017             1  \n",
      "31752      27889             1  \n",
      "5732       26933             0  \n",
      "5704       25958             0  \n",
      "5686       24833             1  \n",
      "31757      24450             1  \n",
      "5685       24333             0  \n",
      "5713       23081             1  \n",
      "5706       22996             1  \n",
      "5708       22996             1  \n",
      "5632       21944             1  \n",
      "5633       21900             0  \n",
      "5715       21760             0  \n",
      "5664       21660             1  \n",
      "5661       20837             0  \n",
      "5709       20736             0  \n",
      "5894       20386             1  \n",
      "5717       19948             1  \n",
      "5759       19944             1  \n",
      "5724       19481             1  \n",
      "5721       19481             1  \n",
      "5663       19357             0  \n",
      "5666       19357             0  \n",
      "31755      18978             1  \n",
      "5688       18915             1  \n",
      "5729       18772             0  \n",
      "5730       18592             1  \n",
      "5629       18570             0  \n",
      "5690       18386             0  \n",
      "5922       18196             1  \n",
      "5758       17820             0  \n",
      "5668       17651             0  \n",
      "5507       17332             1  \n",
      "5696       17315             1  \n",
      "5737       17149             0  \n",
      "5422       17146             1  \n",
      "5662       17102             1  \n",
      "23542      16994             1  \n",
      "31698      16942             1  \n",
      "5416       16896             1  \n",
      "5388       16796             1  \n",
      "5639       16523             1  \n",
      "5933       16458             1  \n",
      "5627       16145             1  \n"
     ]
    }
   ],
   "source": [
    "operator_by_wait_time = better_data.sort_values(by='wait_time', ascending=False)\n",
    "print(operator_by_wait_time.head(50))"
   ]
  },
  {
   "cell_type": "markdown",
   "metadata": {},
   "source": [
    "## Creating a DataFrame with all of the data we collected in order to measure operator performance "
   ]
  },
  {
   "cell_type": "code",
   "execution_count": 23,
   "metadata": {},
   "outputs": [
    {
     "name": "stdout",
     "output_type": "stream",
     "text": [
      "               wait_time  missed_count  direction  call_duration\n",
      "operator_id                                                     \n",
      "925922.0     5907.443038      0.417722   0.632911   11759.924051\n",
      "885890.0     5727.133574      0.397112   0.628159   13238.747292\n",
      "929428.0     5325.342857      0.500000   1.000000    4194.285714\n",
      "885876.0     4816.241379      0.423197   0.677116   14620.545455\n",
      "908640.0     3456.461538      0.461538   1.000000    6164.538462\n",
      "...                  ...           ...        ...            ...\n",
      "907970.0       12.230769      0.296703   0.824176     166.681319\n",
      "897872.0       11.843750      0.312500   0.875000     162.437500\n",
      "958672.0       11.038462      0.307692   1.000000      85.576923\n",
      "940456.0       11.027027      0.297297   0.594595      49.351351\n",
      "930908.0        9.239130      0.217391   0.478261     146.347826\n",
      "\n",
      "[547 rows x 4 columns]\n",
      "<class 'pandas.core.frame.DataFrame'>\n",
      "Float64Index: 547 entries, 879896.0 to 969272.0\n",
      "Data columns (total 5 columns):\n",
      "wait_time        547 non-null float64\n",
      "missed_count     547 non-null float64\n",
      "direction        547 non-null float64\n",
      "call_duration    547 non-null float64\n",
      "score            547 non-null int64\n",
      "dtypes: float64(4), int64(1)\n",
      "memory usage: 25.6 KB\n",
      "None\n"
     ]
    }
   ],
   "source": [
    "wait_data= better_data.groupby('operator_id').agg({'wait_time':'mean','missed_count':'mean','direction':'mean','call_duration':'mean'})\n",
    "print(wait_data.sort_values(by='wait_time', ascending=False))\n",
    "wait_data['score']= 3  \n",
    "print(wait_data.info())"
   ]
  },
  {
   "cell_type": "markdown",
   "metadata": {},
   "source": [
    "## Using numpys percentiles to find out what exactly is a bad operator. \n",
    "Good and bad is relative so we decided to choose what is \"bad\" according to the rest of their cohort. "
   ]
  },
  {
   "cell_type": "code",
   "execution_count": 24,
   "metadata": {},
   "outputs": [
    {
     "name": "stdout",
     "output_type": "stream",
     "text": [
      "Wait times over 80th percentile  [412.90452529]\n",
      "AVG Missed calls over 80th percentile [0.47261227]\n",
      "Average call direction [0.74468085]\n"
     ]
    }
   ],
   "source": [
    "pwait = np.percentile(wait_data['wait_time'],[80])\n",
    "pmissed =np.percentile(wait_data['missed_count'], [80])\n",
    "pdir= np.percentile(wait_data['direction'], [50])\n",
    "print(\"Wait times over 80th percentile \",pwait)\n",
    "print('AVG Missed calls over 80th percentile',pmissed)\n",
    "print('Average call direction',pdir)"
   ]
  },
  {
   "cell_type": "markdown",
   "metadata": {},
   "source": [
    "## Creating an OperRATER (Get it?Because we use this to rate the operators? ). It is a scoring system to weed out the bad ones. The three main criteria are wait times, missed calls, and outbound calls. The highest score an operator can get is 3 and the lowest is 0. "
   ]
  },
  {
   "cell_type": "code",
   "execution_count": 25,
   "metadata": {},
   "outputs": [],
   "source": [
    "def calc_score(row):\n",
    "        if row['wait_time'] > 412:\n",
    "            row['score']-=1\n",
    "        if row['missed_count'] > .47:\n",
    "            row['score']-=1\n",
    "        if row['direction'] < .74:\n",
    "            row['score']-=1\n",
    "        return row"
   ]
  },
  {
   "cell_type": "markdown",
   "metadata": {},
   "source": [
    "Now we apply the function to our table"
   ]
  },
  {
   "cell_type": "code",
   "execution_count": 26,
   "metadata": {},
   "outputs": [
    {
     "data": {
      "text/html": [
       "<div>\n",
       "<style scoped>\n",
       "    .dataframe tbody tr th:only-of-type {\n",
       "        vertical-align: middle;\n",
       "    }\n",
       "\n",
       "    .dataframe tbody tr th {\n",
       "        vertical-align: top;\n",
       "    }\n",
       "\n",
       "    .dataframe thead th {\n",
       "        text-align: right;\n",
       "    }\n",
       "</style>\n",
       "<table border=\"1\" class=\"dataframe\">\n",
       "  <thead>\n",
       "    <tr style=\"text-align: right;\">\n",
       "      <th></th>\n",
       "      <th>wait_time</th>\n",
       "      <th>missed_count</th>\n",
       "      <th>direction</th>\n",
       "      <th>call_duration</th>\n",
       "      <th>score</th>\n",
       "    </tr>\n",
       "    <tr>\n",
       "      <th>operator_id</th>\n",
       "      <th></th>\n",
       "      <th></th>\n",
       "      <th></th>\n",
       "      <th></th>\n",
       "      <th></th>\n",
       "    </tr>\n",
       "  </thead>\n",
       "  <tbody>\n",
       "    <tr>\n",
       "      <td>879896.0</td>\n",
       "      <td>110.671875</td>\n",
       "      <td>0.390625</td>\n",
       "      <td>0.820312</td>\n",
       "      <td>650.476562</td>\n",
       "      <td>3.0</td>\n",
       "    </tr>\n",
       "    <tr>\n",
       "      <td>879898.0</td>\n",
       "      <td>451.860000</td>\n",
       "      <td>0.400000</td>\n",
       "      <td>0.748000</td>\n",
       "      <td>1115.504000</td>\n",
       "      <td>2.0</td>\n",
       "    </tr>\n",
       "    <tr>\n",
       "      <td>880020.0</td>\n",
       "      <td>15.181818</td>\n",
       "      <td>0.318182</td>\n",
       "      <td>0.636364</td>\n",
       "      <td>104.090909</td>\n",
       "      <td>2.0</td>\n",
       "    </tr>\n",
       "    <tr>\n",
       "      <td>880022.0</td>\n",
       "      <td>57.565789</td>\n",
       "      <td>0.434211</td>\n",
       "      <td>0.894737</td>\n",
       "      <td>240.842105</td>\n",
       "      <td>3.0</td>\n",
       "    </tr>\n",
       "    <tr>\n",
       "      <td>880026.0</td>\n",
       "      <td>121.171717</td>\n",
       "      <td>0.474747</td>\n",
       "      <td>0.904040</td>\n",
       "      <td>856.939394</td>\n",
       "      <td>2.0</td>\n",
       "    </tr>\n",
       "    <tr>\n",
       "      <td>...</td>\n",
       "      <td>...</td>\n",
       "      <td>...</td>\n",
       "      <td>...</td>\n",
       "      <td>...</td>\n",
       "      <td>...</td>\n",
       "    </tr>\n",
       "    <tr>\n",
       "      <td>964510.0</td>\n",
       "      <td>66.555556</td>\n",
       "      <td>0.407407</td>\n",
       "      <td>0.740741</td>\n",
       "      <td>385.074074</td>\n",
       "      <td>3.0</td>\n",
       "    </tr>\n",
       "    <tr>\n",
       "      <td>964666.0</td>\n",
       "      <td>890.000000</td>\n",
       "      <td>0.375000</td>\n",
       "      <td>0.583333</td>\n",
       "      <td>2278.291667</td>\n",
       "      <td>1.0</td>\n",
       "    </tr>\n",
       "    <tr>\n",
       "      <td>965540.0</td>\n",
       "      <td>1053.904762</td>\n",
       "      <td>0.476190</td>\n",
       "      <td>1.000000</td>\n",
       "      <td>3818.428571</td>\n",
       "      <td>1.0</td>\n",
       "    </tr>\n",
       "    <tr>\n",
       "      <td>968338.0</td>\n",
       "      <td>226.727273</td>\n",
       "      <td>0.318182</td>\n",
       "      <td>0.681818</td>\n",
       "      <td>686.409091</td>\n",
       "      <td>2.0</td>\n",
       "    </tr>\n",
       "    <tr>\n",
       "      <td>969272.0</td>\n",
       "      <td>185.558824</td>\n",
       "      <td>0.411765</td>\n",
       "      <td>0.705882</td>\n",
       "      <td>529.588235</td>\n",
       "      <td>2.0</td>\n",
       "    </tr>\n",
       "  </tbody>\n",
       "</table>\n",
       "<p>547 rows × 5 columns</p>\n",
       "</div>"
      ],
      "text/plain": [
       "               wait_time  missed_count  direction  call_duration  score\n",
       "operator_id                                                            \n",
       "879896.0      110.671875      0.390625   0.820312     650.476562    3.0\n",
       "879898.0      451.860000      0.400000   0.748000    1115.504000    2.0\n",
       "880020.0       15.181818      0.318182   0.636364     104.090909    2.0\n",
       "880022.0       57.565789      0.434211   0.894737     240.842105    3.0\n",
       "880026.0      121.171717      0.474747   0.904040     856.939394    2.0\n",
       "...                  ...           ...        ...            ...    ...\n",
       "964510.0       66.555556      0.407407   0.740741     385.074074    3.0\n",
       "964666.0      890.000000      0.375000   0.583333    2278.291667    1.0\n",
       "965540.0     1053.904762      0.476190   1.000000    3818.428571    1.0\n",
       "968338.0      226.727273      0.318182   0.681818     686.409091    2.0\n",
       "969272.0      185.558824      0.411765   0.705882     529.588235    2.0\n",
       "\n",
       "[547 rows x 5 columns]"
      ]
     },
     "metadata": {},
     "output_type": "display_data"
    }
   ],
   "source": [
    "final_data=wait_data.apply(calc_score, axis=1)\n",
    "display(final_data)"
   ]
  },
  {
   "cell_type": "markdown",
   "metadata": {},
   "source": [
    "We can see that there are clearly operators who have perfect scores and many that do not"
   ]
  },
  {
   "cell_type": "markdown",
   "metadata": {},
   "source": [
    "## Showing Score Distribution with Pie CHart "
   ]
  },
  {
   "cell_type": "code",
   "execution_count": 37,
   "metadata": {},
   "outputs": [
    {
     "data": {
      "text/plain": [
       "Text(0.5, 1.0, 'Socres of Operators')"
      ]
     },
     "execution_count": 37,
     "metadata": {},
     "output_type": "execute_result"
    },
    {
     "data": {
      "image/png": "[encoded data removed]",
      "text/plain": [
       "<Figure size 432x288 with 1 Axes>"
      ]
     },
     "metadata": {},
     "output_type": "display_data"
    }
   ],
   "source": [
    "forchart= final_data.groupby('score').agg({'direction':'count'})\n",
    "forchart.plot.pie(autopct=\"%.1f%%\",y='direction');\n",
    "# forchart.plot(kind='pie', y='direction')\n",
    "plt.ylabel('score')\n",
    "plt.title('Socres of Operators')"
   ]
  },
  {
   "cell_type": "markdown",
   "metadata": {},
   "source": [
    "We see that the marjority of restaurants are not the highest score and not the worst."
   ]
  },
  {
   "cell_type": "markdown",
   "metadata": {},
   "source": [
    "## Dividing the Data for Hypothesis testing \n",
    "\n",
    "What I planned on testing in the decomposition task is whether average call length for operator is an indicator of a good or bad operator"
   ]
  },
  {
   "cell_type": "code",
   "execution_count": null,
   "metadata": {},
   "outputs": [],
   "source": [
    "ptime= np.percentile(wait_data['call_duration'], [50])\n",
    "print(ptime)\n",
    "long_call_op = final_data[wait_data['call_duration']>=510]\n",
    "short_call_op= final_data[wait_data['call_duration']<510]\n"
   ]
  },
  {
   "cell_type": "markdown",
   "metadata": {},
   "source": [
    "## Formulating the Hypothesis\n",
    "\n",
    "If the p-value is less than 0.05, we reject the null hypothesis that there's no difference between the means and conclude that a significant difference does exist. If the p-value is larger than 0.05, we cannot conclude that a significant difference exists.\n",
    "\n",
    "\n",
    "Null Hypothesis:\n",
    "Call length is unrelated to operator score. \n",
    "Alternative Hypothesis:\n",
    "Call length changes depending on operators because the service is not as good. \n"
   ]
  },
  {
   "cell_type": "markdown",
   "metadata": {},
   "source": [
    "## Veiwing the groups before testing the Hypothesis"
   ]
  },
  {
   "cell_type": "code",
   "execution_count": 224,
   "metadata": {},
   "outputs": [
    {
     "data": {
      "text/html": [
       "<div>\n",
       "<style scoped>\n",
       "    .dataframe tbody tr th:only-of-type {\n",
       "        vertical-align: middle;\n",
       "    }\n",
       "\n",
       "    .dataframe tbody tr th {\n",
       "        vertical-align: top;\n",
       "    }\n",
       "\n",
       "    .dataframe thead th {\n",
       "        text-align: right;\n",
       "    }\n",
       "</style>\n",
       "<table border=\"1\" class=\"dataframe\">\n",
       "  <thead>\n",
       "    <tr style=\"text-align: right;\">\n",
       "      <th></th>\n",
       "      <th>wait_time</th>\n",
       "      <th>missed_count</th>\n",
       "      <th>direction</th>\n",
       "      <th>call_duration</th>\n",
       "      <th>score</th>\n",
       "    </tr>\n",
       "  </thead>\n",
       "  <tbody>\n",
       "    <tr>\n",
       "      <td>count</td>\n",
       "      <td>275.000000</td>\n",
       "      <td>275.000000</td>\n",
       "      <td>275.000000</td>\n",
       "      <td>275.000000</td>\n",
       "      <td>275.000000</td>\n",
       "    </tr>\n",
       "    <tr>\n",
       "      <td>mean</td>\n",
       "      <td>607.925543</td>\n",
       "      <td>0.408547</td>\n",
       "      <td>0.789710</td>\n",
       "      <td>1728.488241</td>\n",
       "      <td>1.850909</td>\n",
       "    </tr>\n",
       "    <tr>\n",
       "      <td>std</td>\n",
       "      <td>827.605162</td>\n",
       "      <td>0.119574</td>\n",
       "      <td>0.242678</td>\n",
       "      <td>1773.988846</td>\n",
       "      <td>0.685851</td>\n",
       "    </tr>\n",
       "    <tr>\n",
       "      <td>min</td>\n",
       "      <td>17.636364</td>\n",
       "      <td>0.000000</td>\n",
       "      <td>0.000000</td>\n",
       "      <td>510.139535</td>\n",
       "      <td>1.000000</td>\n",
       "    </tr>\n",
       "    <tr>\n",
       "      <td>25%</td>\n",
       "      <td>143.268918</td>\n",
       "      <td>0.343918</td>\n",
       "      <td>0.654321</td>\n",
       "      <td>699.848538</td>\n",
       "      <td>1.000000</td>\n",
       "    </tr>\n",
       "    <tr>\n",
       "      <td>50%</td>\n",
       "      <td>319.589286</td>\n",
       "      <td>0.423197</td>\n",
       "      <td>0.837209</td>\n",
       "      <td>1113.833333</td>\n",
       "      <td>2.000000</td>\n",
       "    </tr>\n",
       "    <tr>\n",
       "      <td>75%</td>\n",
       "      <td>819.221554</td>\n",
       "      <td>0.500000</td>\n",
       "      <td>1.000000</td>\n",
       "      <td>1968.703400</td>\n",
       "      <td>2.000000</td>\n",
       "    </tr>\n",
       "    <tr>\n",
       "      <td>max</td>\n",
       "      <td>5907.443038</td>\n",
       "      <td>0.676471</td>\n",
       "      <td>1.000000</td>\n",
       "      <td>14620.545455</td>\n",
       "      <td>3.000000</td>\n",
       "    </tr>\n",
       "  </tbody>\n",
       "</table>\n",
       "</div>"
      ],
      "text/plain": [
       "         wait_time  missed_count   direction  call_duration       score\n",
       "count   275.000000    275.000000  275.000000     275.000000  275.000000\n",
       "mean    607.925543      0.408547    0.789710    1728.488241    1.850909\n",
       "std     827.605162      0.119574    0.242678    1773.988846    0.685851\n",
       "min      17.636364      0.000000    0.000000     510.139535    1.000000\n",
       "25%     143.268918      0.343918    0.654321     699.848538    1.000000\n",
       "50%     319.589286      0.423197    0.837209    1113.833333    2.000000\n",
       "75%     819.221554      0.500000    1.000000    1968.703400    2.000000\n",
       "max    5907.443038      0.676471    1.000000   14620.545455    3.000000"
      ]
     },
     "execution_count": 224,
     "metadata": {},
     "output_type": "execute_result"
    }
   ],
   "source": [
    "long_call_op.describe()"
   ]
  },
  {
   "cell_type": "code",
   "execution_count": 225,
   "metadata": {},
   "outputs": [
    {
     "data": {
      "text/html": [
       "<div>\n",
       "<style scoped>\n",
       "    .dataframe tbody tr th:only-of-type {\n",
       "        vertical-align: middle;\n",
       "    }\n",
       "\n",
       "    .dataframe tbody tr th {\n",
       "        vertical-align: top;\n",
       "    }\n",
       "\n",
       "    .dataframe thead th {\n",
       "        text-align: right;\n",
       "    }\n",
       "</style>\n",
       "<table border=\"1\" class=\"dataframe\">\n",
       "  <thead>\n",
       "    <tr style=\"text-align: right;\">\n",
       "      <th></th>\n",
       "      <th>wait_time</th>\n",
       "      <th>missed_count</th>\n",
       "      <th>direction</th>\n",
       "      <th>call_duration</th>\n",
       "      <th>score</th>\n",
       "    </tr>\n",
       "  </thead>\n",
       "  <tbody>\n",
       "    <tr>\n",
       "      <td>count</td>\n",
       "      <td>272.000000</td>\n",
       "      <td>272.000000</td>\n",
       "      <td>272.000000</td>\n",
       "      <td>272.000000</td>\n",
       "      <td>272.000000</td>\n",
       "    </tr>\n",
       "    <tr>\n",
       "      <td>mean</td>\n",
       "      <td>66.473388</td>\n",
       "      <td>0.279262</td>\n",
       "      <td>0.627783</td>\n",
       "      <td>260.290395</td>\n",
       "      <td>2.352941</td>\n",
       "    </tr>\n",
       "    <tr>\n",
       "      <td>std</td>\n",
       "      <td>69.032811</td>\n",
       "      <td>0.133925</td>\n",
       "      <td>0.303904</td>\n",
       "      <td>121.568390</td>\n",
       "      <td>0.486412</td>\n",
       "    </tr>\n",
       "    <tr>\n",
       "      <td>min</td>\n",
       "      <td>9.239130</td>\n",
       "      <td>0.000000</td>\n",
       "      <td>0.000000</td>\n",
       "      <td>39.545455</td>\n",
       "      <td>1.000000</td>\n",
       "    </tr>\n",
       "    <tr>\n",
       "      <td>25%</td>\n",
       "      <td>30.270536</td>\n",
       "      <td>0.204762</td>\n",
       "      <td>0.518249</td>\n",
       "      <td>162.379712</td>\n",
       "      <td>2.000000</td>\n",
       "    </tr>\n",
       "    <tr>\n",
       "      <td>50%</td>\n",
       "      <td>44.768561</td>\n",
       "      <td>0.303030</td>\n",
       "      <td>0.681568</td>\n",
       "      <td>240.048325</td>\n",
       "      <td>2.000000</td>\n",
       "    </tr>\n",
       "    <tr>\n",
       "      <td>75%</td>\n",
       "      <td>69.380476</td>\n",
       "      <td>0.366057</td>\n",
       "      <td>0.851261</td>\n",
       "      <td>353.994965</td>\n",
       "      <td>3.000000</td>\n",
       "    </tr>\n",
       "    <tr>\n",
       "      <td>max</td>\n",
       "      <td>482.304348</td>\n",
       "      <td>0.594595</td>\n",
       "      <td>1.000000</td>\n",
       "      <td>508.844037</td>\n",
       "      <td>3.000000</td>\n",
       "    </tr>\n",
       "  </tbody>\n",
       "</table>\n",
       "</div>"
      ],
      "text/plain": [
       "        wait_time  missed_count   direction  call_duration       score\n",
       "count  272.000000    272.000000  272.000000     272.000000  272.000000\n",
       "mean    66.473388      0.279262    0.627783     260.290395    2.352941\n",
       "std     69.032811      0.133925    0.303904     121.568390    0.486412\n",
       "min      9.239130      0.000000    0.000000      39.545455    1.000000\n",
       "25%     30.270536      0.204762    0.518249     162.379712    2.000000\n",
       "50%     44.768561      0.303030    0.681568     240.048325    2.000000\n",
       "75%     69.380476      0.366057    0.851261     353.994965    3.000000\n",
       "max    482.304348      0.594595    1.000000     508.844037    3.000000"
      ]
     },
     "execution_count": 225,
     "metadata": {},
     "output_type": "execute_result"
    }
   ],
   "source": [
    "short_call_op.describe()"
   ]
  },
  {
   "cell_type": "markdown",
   "metadata": {},
   "source": [
    "## Testing the Hypothesis"
   ]
  },
  {
   "cell_type": "code",
   "execution_count": 226,
   "metadata": {},
   "outputs": [
    {
     "name": "stdout",
     "output_type": "stream",
     "text": [
      "p-value:  3.1233592770647294e-21\n",
      "We reject the null hypothesis of equal averages\n"
     ]
    }
   ],
   "source": [
    "alpha = 0.05\n",
    "\n",
    "results = st.ttest_ind(long_call_op['score'], short_call_op['score'])\n",
    "\n",
    "print('p-value: ', results.pvalue)\n",
    "\n",
    "if (results.pvalue < alpha):\n",
    "    print(\"We reject the null hypothesis of equal averages\")\n",
    "else:\n",
    "    print(\"We can't reject the null hypothesis\")"
   ]
  },
  {
   "cell_type": "markdown",
   "metadata": {},
   "source": [
    "We reject the Null hypothesis!! There are differences in the two groups! The operators with the shorter call averages ended up having higher scores. Maybe the metrics we are using are not telling the whole story? Less and shorter calls can mean that overall there are less wait times and issues. "
   ]
  },
  {
   "cell_type": "markdown",
   "metadata": {},
   "source": [
    "## Machine Learning!! \n",
    "We now move on to our next session! Machine learning here we are going to check the probablities of scores. "
   ]
  },
  {
   "cell_type": "code",
   "execution_count": 227,
   "metadata": {},
   "outputs": [
    {
     "data": {
      "text/plain": [
       "Index(['wait_time', 'missed_count', 'direction', 'call_duration'], dtype='object')"
      ]
     },
     "execution_count": 227,
     "metadata": {},
     "output_type": "execute_result"
    }
   ],
   "source": [
    "X= final_data.drop('score', axis=1)\n",
    "y= final_data['score']\n",
    "X.columns"
   ]
  },
  {
   "cell_type": "markdown",
   "metadata": {},
   "source": [
    "## Dividing the Data into train and test"
   ]
  },
  {
   "cell_type": "code",
   "execution_count": 228,
   "metadata": {},
   "outputs": [],
   "source": [
    "X_train, X_test, y_train, y_test = train_test_split(X, y, test_size=0.2, random_state=0)\n"
   ]
  },
  {
   "cell_type": "markdown",
   "metadata": {},
   "source": [
    "## Defining and Training the Model. Then creating predictions and probabilities"
   ]
  },
  {
   "cell_type": "code",
   "execution_count": 229,
   "metadata": {},
   "outputs": [
    {
     "name": "stderr",
     "output_type": "stream",
     "text": [
      "C:\\Users\\raden\\Anaconda3\\lib\\site-packages\\sklearn\\linear_model\\logistic.py:433: FutureWarning: Default solver will be changed to 'lbfgs' in 0.22. Specify a solver to silence this warning.\n",
      "  FutureWarning)\n",
      "C:\\Users\\raden\\Anaconda3\\lib\\site-packages\\sklearn\\linear_model\\logistic.py:460: FutureWarning: Default multi_class will be changed to 'auto' in 0.22. Specify the multi_class option to silence this warning.\n",
      "  \"this warning.\", FutureWarning)\n"
     ]
    }
   ],
   "source": [
    "# define the model's algorithm \n",
    "model = LogisticRegression()\n",
    "\n",
    "# train your model\n",
    "model.fit(X_train, y_train)\n",
    "\n",
    "# use the trained model to make forecasts\n",
    "predictions = model.predict(X_test)\n",
    "probabilities = model.predict_proba(X_test)[:,1]"
   ]
  },
  {
   "cell_type": "markdown",
   "metadata": {},
   "source": [
    "## Creating Hierarchical clustering for Telecom Operator Scores "
   ]
  },
  {
   "cell_type": "code",
   "execution_count": 230,
   "metadata": {},
   "outputs": [],
   "source": [
    "sc = StandardScaler()\n",
    "x_sc = sc.fit_transform(final_data)"
   ]
  },
  {
   "cell_type": "markdown",
   "metadata": {},
   "source": [
    "We fitted the data now we are going to create the actual dendogram "
   ]
  },
  {
   "cell_type": "code",
   "execution_count": 231,
   "metadata": {},
   "outputs": [
    {
     "data": {
      "image/png": "[encoded data removed]",
      "text/plain": [
       "<Figure size 1080x720 with 1 Axes>"
      ]
     },
     "metadata": {
      "needs_background": "light"
     },
     "output_type": "display_data"
    }
   ],
   "source": [
    "linked = linkage(x_sc, method = 'ward')\n",
    "plt.figure(figsize=(15, 10))  \n",
    "dendrogram(linked, orientation='top')\n",
    "plt.title('Hierarchical clustering for Telecom Operator Scores')\n",
    "plt.show() "
   ]
  },
  {
   "cell_type": "markdown",
   "metadata": {},
   "source": [
    "## Dividing them into clusters so we can explore what they are doing. Based off the dendogram it looks like 3 clusters could be the way to go! "
   ]
  },
  {
   "cell_type": "code",
   "execution_count": 232,
   "metadata": {},
   "outputs": [],
   "source": [
    "# define the k_means model with 3 clusters\n",
    "km = KMeans(n_clusters = 3, random_state=0)\n",
    "# predict the clusters for observations (the algorithm assigns them a number from 0 to 4)\n",
    "labels = km.fit_predict(x_sc)\n"
   ]
  },
  {
   "cell_type": "markdown",
   "metadata": {},
   "source": [
    "## Looking at our average clusters and seeing what we can learn from the way they are divided "
   ]
  },
  {
   "cell_type": "code",
   "execution_count": 233,
   "metadata": {},
   "outputs": [
    {
     "data": {
      "text/html": [
       "<div>\n",
       "<style scoped>\n",
       "    .dataframe tbody tr th:only-of-type {\n",
       "        vertical-align: middle;\n",
       "    }\n",
       "\n",
       "    .dataframe tbody tr th {\n",
       "        vertical-align: top;\n",
       "    }\n",
       "\n",
       "    .dataframe thead th {\n",
       "        text-align: right;\n",
       "    }\n",
       "</style>\n",
       "<table border=\"1\" class=\"dataframe\">\n",
       "  <thead>\n",
       "    <tr style=\"text-align: right;\">\n",
       "      <th></th>\n",
       "      <th>cluster_km</th>\n",
       "      <th>wait_time</th>\n",
       "      <th>missed_count</th>\n",
       "      <th>direction</th>\n",
       "      <th>call_duration</th>\n",
       "      <th>score</th>\n",
       "    </tr>\n",
       "  </thead>\n",
       "  <tbody>\n",
       "    <tr>\n",
       "      <td>0</td>\n",
       "      <td>0</td>\n",
       "      <td>84.082517</td>\n",
       "      <td>0.118218</td>\n",
       "      <td>0.230272</td>\n",
       "      <td>480.469041</td>\n",
       "      <td>1.969072</td>\n",
       "    </tr>\n",
       "    <tr>\n",
       "      <td>1</td>\n",
       "      <td>1</td>\n",
       "      <td>146.177046</td>\n",
       "      <td>0.364530</td>\n",
       "      <td>0.776103</td>\n",
       "      <td>590.276619</td>\n",
       "      <td>2.393855</td>\n",
       "    </tr>\n",
       "    <tr>\n",
       "      <td>2</td>\n",
       "      <td>2</td>\n",
       "      <td>1356.227166</td>\n",
       "      <td>0.503704</td>\n",
       "      <td>0.953762</td>\n",
       "      <td>3132.703557</td>\n",
       "      <td>1.097826</td>\n",
       "    </tr>\n",
       "  </tbody>\n",
       "</table>\n",
       "</div>"
      ],
      "text/plain": [
       "   cluster_km    wait_time  missed_count  direction  call_duration     score\n",
       "0           0    84.082517      0.118218   0.230272     480.469041  1.969072\n",
       "1           1   146.177046      0.364530   0.776103     590.276619  2.393855\n",
       "2           2  1356.227166      0.503704   0.953762    3132.703557  1.097826"
      ]
     },
     "metadata": {},
     "output_type": "display_data"
    }
   ],
   "source": [
    "# store cluster labels into the field of our dataset\n",
    "final_data['cluster_km'] = labels\n",
    "\n",
    "# get the statistics of the mean feature values per cluster\n",
    "clusters= final_data.groupby(['cluster_km']).mean().reset_index()\n",
    "display(clusters)"
   ]
  },
  {
   "cell_type": "markdown",
   "metadata": {},
   "source": [
    "## Creating a function to show the clusters on one plot together "
   ]
  },
  {
   "cell_type": "code",
   "execution_count": 234,
   "metadata": {},
   "outputs": [],
   "source": [
    "def show_clusters_on_plot1(df, x_name,y_name, cluster_name):\n",
    "    plt.figure(figsize = (10,10))\n",
    "    sns.boxplot(df[x_name], df[y_name],hue = df[cluster_name], palette = 'Paired')\n",
    "    plt.title('{} vs {}'.format(x_name, y_name))\n",
    "    plt.show()"
   ]
  },
  {
   "cell_type": "markdown",
   "metadata": {},
   "source": [
    "## Plotting the clusters"
   ]
  },
  {
   "cell_type": "code",
   "execution_count": 235,
   "metadata": {
    "scrolled": false
   },
   "outputs": [
    {
     "data": {
      "image/png": "[encoded data removed]",
      "text/plain": [
       "<Figure size 720x720 with 1 Axes>"
      ]
     },
     "metadata": {
      "needs_background": "light"
     },
     "output_type": "display_data"
    },
    {
     "data": {
      "image/png": "[encoded data removed]",
      "text/plain": [
       "<Figure size 720x720 with 1 Axes>"
      ]
     },
     "metadata": {
      "needs_background": "light"
     },
     "output_type": "display_data"
    },
    {
     "data": {
      "image/png": "[encoded data removed]",
      "text/plain": [
       "<Figure size 720x720 with 1 Axes>"
      ]
     },
     "metadata": {
      "needs_background": "light"
     },
     "output_type": "display_data"
    },
    {
     "data": {
      "image/png": "[encoded data removed]",
      "text/plain": [
       "<Figure size 720x720 with 1 Axes>"
      ]
     },
     "metadata": {
      "needs_background": "light"
     },
     "output_type": "display_data"
    }
   ],
   "source": [
    "show_clusters_on_plot1(final_data,'score','wait_time','cluster_km')\n",
    "show_clusters_on_plot1(final_data,'score','missed_count','cluster_km')\n",
    "show_clusters_on_plot1(final_data,'score','direction','cluster_km')\n",
    "show_clusters_on_plot1(final_data,'score','call_duration','cluster_km')\n"
   ]
  },
  {
   "cell_type": "markdown",
   "metadata": {},
   "source": [
    "Based off of our clustering it looks like Direction of call had the biggest impact in correlation to the scoring of our clusters. Which is interesting because we would have assumed that missed calls and wait times would be more intense metrics. Based off what the clusters are showing it looks like some of the other metrics that we aren't looking at play a key role in operator performance. Maybe we need to look deeper into some of the metrics and see if we can find something that really gives us a better understanding of why operators are good or bad. It would also be interesting to have a customer satisfaction survey to compare our scores with scores that the customers give based on operator. "
   ]
  },
  {
   "cell_type": "markdown",
   "metadata": {},
   "source": [
    "# Conclusion \n",
    "\n",
    "We have done quite a bit. We have done:\n",
    "\n",
    "1. Data preprocessing: data gets transformed into usable data \n",
    "2. Exploratory data analysis: Looking at the data we have, look for missing values, abnormal values,convert the values, remove duplicates, manage mislabeled columns. \n",
    "3. Break down the groups: finding ineffective operators, making clusters, further getting a grip on the data, using groupby to make groups. \n",
    "4. Hypothesis testing: using statistical methods to see if they hypothesis makes sense. \n",
    "5. (potentially) machine learning: breaking the data into train and test, using the data to create clusters. See what features clusters have to get a better understanding of the data. \n",
    "\n",
    "My boss can now use my scoring system to see exactly which operators underperformed and why. In addition to that we can change the parameters for scoring to create a more focused system! \n",
    "\n",
    "Overall I think that the operator scoring system can be used for the company. We would want to get better parameters for the data from our supervisor to see if we can create a threshold that they would agree with of how many data points each operator needs before we can score them. \n",
    "\n",
    " Maybe we need to look deeper into some of the metrics and see if we can find something that really gives us a better understanding of why operators are good or bad. It would also be interesting to have a customer satisfaction survey to compare our scores with scores that the customers give based on operator. "
   ]
  },
  {
   "cell_type": "markdown",
   "metadata": {},
   "source": [
    "## Useful Readings \n",
    "1. https://pandas.pydata.org/pandas-docs/stable/reference/api/pandas.DataFrame.groupby.html Pandas documentation for their groupby function. Although, it might seem  somewhat base this page really helped understand the potential of what I could do for this project.\n",
    "2. https://docs.scipy.org/doc/scipy/reference/generated/scipy.stats.ttest_ind.html This helped me with my hypothesis testing. I was able to use their t-test to test to averages against each other. \n",
    "3. https://jakevdp.github.io/PythonDataScienceHandbook/05.11-k-means.html Helped me understand clustering a little bit better as well as expectation maximization.\n",
    "4. https://docs.scipy.org/doc/scipy/reference/generated/scipy.cluster.hierarchy.dendrogram.html Used this for a little more background for my dendogram and how to make it work. \n",
    "5. https://towardsdatascience.com/exploratory-data-analysis-in-python-c9a77dfa39ce This EDA article helped with using Seaborn and reminding me of some of the more clear cut methods I can use for my project. \n",
    "6. https://pandas.pydata.org/pandas-docs/stable/user_guide/indexing.html I used this to better understand the structures of my dataframes. I needed to apply my function to the rows of my dataframe so I read through this a bit. "
   ]
  },
  {
   "cell_type": "code",
   "execution_count": null,
   "metadata": {},
   "outputs": [],
   "source": []
  }
 ],
 "metadata": {
  "kernelspec": {
   "display_name": "Python 3",
   "language": "python",
   "name": "python3"
  },
  "language_info": {
   "codemirror_mode": {
    "name": "ipython",
    "version": 3
   },
   "file_extension": ".py",
   "mimetype": "text/x-python",
   "name": "python",
   "nbconvert_exporter": "python",
   "pygments_lexer": "ipython3",
   "version": "3.7.3"
  }
 },
 "nbformat": 4,
 "nbformat_minor": 2
}
